{
 "cells": [
  {
   "cell_type": "code",
   "execution_count": 6,
   "metadata": {},
   "outputs": [
    {
     "data": {
      "text/plain": [
       "'1.12.0'"
      ]
     },
     "execution_count": 6,
     "metadata": {},
     "output_type": "execute_result"
    }
   ],
   "source": [
    "import torch\n",
    "torch.__version__\n",
    "\n",
    "\n"
   ]
  },
  {
   "cell_type": "code",
   "execution_count": 7,
   "metadata": {},
   "outputs": [
    {
     "name": "stdout",
     "output_type": "stream",
     "text": [
      "True\n",
      "1\n",
      "11.3\n",
      "True\n"
     ]
    }
   ],
   "source": [
    "from torch.backends import  cudnn\n",
    "import torch # 如果pytorch安装成功即可导入\n",
    "print(torch.cuda.is_available()) # 查看CUDA是否可用\n",
    "print(torch.cuda.device_count()) # 查看可用的CUDA数量\n",
    "print(torch.version.cuda) # 查看CUDA的版本号\n",
    "print(cudnn.is_available())  #返回True则说明已经安装了cuDNN\n",
    "\n",
    "# ngpu= 1\n",
    "# # Decide which device we want to run on\n",
    "# device = torch.device(\"cuda:0\" if (torch.cuda.is_available() and ngpu > 0) else \"cpu\")\n",
    "# print(device)\n",
    "# print(torch.cuda.get_device_name(0))\n",
    "# print(torch.rand(3,3).cuda())\n"
   ]
  },
  {
   "cell_type": "code",
   "execution_count": 35,
   "metadata": {},
   "outputs": [
    {
     "name": "stdout",
     "output_type": "stream",
     "text": [
      "tensor([[3, 4, 2],\n",
      "        [5, 6, 2]])\n",
      "torch.Size([2, 3])\n",
      "<built-in method size of Tensor object at 0x00000253554C1B80>\n",
      "2\n",
      "3\n",
      "6\n"
     ]
    }
   ],
   "source": [
    "\n",
    "### 维度基本信息获取\n",
    "\n",
    "x = torch.tensor([[3,4,2],[5,6,2]])\n",
    "print(x)\n",
    "print(x.shape)\n",
    "\n",
    "print(x.size)\n",
    "print(x.size(0))\n",
    "print(x.size(1))\n",
    "print(x.numel())\n",
    "\n"
   ]
  },
  {
   "cell_type": "code",
   "execution_count": 43,
   "metadata": {},
   "outputs": [
    {
     "name": "stdout",
     "output_type": "stream",
     "text": [
      "tensor([ 0,  1,  2,  3,  4,  5,  6,  7,  8,  9, 10, 11])\n",
      "tensor([[ 0,  1,  2,  3],\n",
      "        [ 4,  5,  6,  7],\n",
      "        [ 8,  9, 10, 11]])\n",
      "tensor([[0., 0., 0., 0.],\n",
      "        [0., 0., 0., 0.],\n",
      "        [0., 0., 0., 0.]])\n",
      "tensor([[1., 1., 1., 1.],\n",
      "        [1., 1., 1., 1.],\n",
      "        [1., 1., 1., 1.]])\n",
      "tensor([[-0.6327,  0.1593,  0.9833,  0.5491],\n",
      "        [-0.4754,  1.0215,  0.1721, -0.5563],\n",
      "        [-0.6483,  0.0429, -0.8140,  2.2393]])\n",
      "tensor([[0.9413, 0.2452, 0.9980, 0.6155],\n",
      "        [0.8583, 0.6249, 0.7188, 0.0359],\n",
      "        [0.9448, 0.2964, 0.8423, 0.8615]])\n"
     ]
    }
   ],
   "source": [
    "\n",
    "### 基本矩阵形式生成\n",
    "\n",
    "y = torch.arange(12)\n",
    "print(y)\n",
    "y = y.reshape(3,4)\n",
    "print(y)\n",
    "\n",
    "print(torch.zeros((3,4)))\n",
    "print(torch.ones((3,4)))\n",
    "\n",
    "# print(torch.ones(3,4)) 最好还是按照上面写\n",
    "\n",
    "print(torch.randn((3,4))) #均值0，方差1的正态分布\n",
    "\n",
    "\n",
    "print(torch.rand((3,4))) # 0-1 的随机数\n",
    "\n",
    "\n"
   ]
  },
  {
   "cell_type": "code",
   "execution_count": null,
   "metadata": {},
   "outputs": [],
   "source": [
    "### 运算\n",
    "\n",
    "\n",
    "\n",
    "\n",
    "\n",
    "\n",
    "\n",
    "\n",
    "\n",
    "\n",
    "\n",
    "\n",
    "\n",
    "\n",
    "\n",
    "\n",
    "\n",
    "\n",
    "\n",
    "\n",
    "\n",
    "\n",
    "\n",
    "\n",
    "\n",
    "\n"
   ]
  }
 ],
 "metadata": {
  "kernelspec": {
   "display_name": "d2l",
   "language": "python",
   "name": "python3"
  },
  "language_info": {
   "codemirror_mode": {
    "name": "ipython",
    "version": 3
   },
   "file_extension": ".py",
   "mimetype": "text/x-python",
   "name": "python",
   "nbconvert_exporter": "python",
   "pygments_lexer": "ipython3",
   "version": "3.9.16"
  },
  "orig_nbformat": 4
 },
 "nbformat": 4,
 "nbformat_minor": 2
}
